{
 "cells": [
  {
   "cell_type": "code",
   "execution_count": 1,
   "id": "94564c63",
   "metadata": {},
   "outputs": [],
   "source": [
    "import os, re, lxml, requests, ee, geemap\n",
    "import pandas as pd\n",
    "import geopandas as gpd\n",
    "from bs4 import BeautifulSoup\n",
    "from shapely.geometry import Point\n",
    "from datetime import date, datetime, time, timedelta"
   ]
  },
  {
   "cell_type": "markdown",
   "id": "11cce154",
   "metadata": {},
   "source": [
    "# Функциональность"
   ]
  },
  {
   "cell_type": "code",
   "execution_count": 2,
   "id": "2df6f7ed",
   "metadata": {},
   "outputs": [],
   "source": [
    "def GetPageData(url):\n",
    "    response = requests.get(url)\n",
    "    response.encoding = 'utf-8'\n",
    "    r = response.text\n",
    "    soup = BeautifulSoup(r, 'lxml')\n",
    "    return soup\n",
    "\n",
    "def LinksByRegion(url):\n",
    "    soup = GetPageData(url)\n",
    "    li_list = soup.find_all('li', class_ = 'big-blue-billet__list_link')\n",
    "    a_list = [li.find_all('a')[0] for li in li_list]\n",
    "    href_list = [a.get('href') for a in a_list]\n",
    "    links = [f'{os.path.dirname(url)}{link}' for link in href_list if len(re.findall(r'weather.php', link)) == 1]\n",
    "    return links\n",
    "\n",
    "def GetPointData(link): \n",
    "    soup = GetPageData(link)\n",
    "     \n",
    "    #extract point info\n",
    "    point_info = soup.find_all(\"div\", class_ = \"archive-text\")[0].find_all('span')\n",
    "    \n",
    "    point_name = point_info[0].text.split('(')[0][:-1]\n",
    "    point_coords = Point(float(point_info[2].text), float(point_info[1].text))\n",
    "\n",
    "    #extract point temperature\n",
    "    try:\n",
    "        point_temp = '{}°C'.format(float(soup.body.find_all('nobr')[-6].text))\n",
    "    except:\n",
    "        point_temp = None\n",
    "\n",
    "    #extract point time\n",
    "    try:\n",
    "        date_ = soup.table.find_all('td', class_ = 'black')[-1].text\n",
    "        time_ = soup.table.find_all('td', class_ = 'black')[-2].text\n",
    "        point_date = date(datetime.now().timetuple()[0], int(date_.split('.')[1]), int(date_.split('.')[0]))\n",
    "        point_time = time(int(time_))\n",
    "        point_fulltime = datetime.combine(point_date, point_time)\n",
    "    except:\n",
    "        point_fulltime = None\n",
    "        \n",
    "    df_point = {'name': point_name , 'temperature': point_temp, 'time': point_fulltime, 'geometry': point_coords}\n",
    "    return df_point\n",
    "\n",
    "def GetRegionData(url):\n",
    "    gdf_dict = {'name': [] , 'temperature': [], 'time': [], 'geometry': []}\n",
    "    gdf = gpd.GeoDataFrame(gdf_dict, crs=4326)\n",
    "    links = LinksByRegion(url)\n",
    "    for link in links:\n",
    "        df_point = GetPointData(link)\n",
    "        gdf = gdf.append(df_point, ignore_index = True)\n",
    "    return gdf\n",
    "\n",
    "def ProcessRegionData(autocode): \n",
    "    start_time = datetime.now().timestamp()\n",
    "    url = f'http://www.pogodaiklimat.ru/archive.php?id=ru&region={autocode}'\n",
    "    gdf_region_ = GetRegionData(url)\n",
    "    gdf_region = gdf_region_.set_crs(4326)\n",
    "    finish_time = datetime.now().timestamp()\n",
    "    print(f'Время сбора данных: {round(finish_time - start_time,2)} с')\n",
    "    return gdf_region\n",
    "\n",
    "def ProcessRegionDataInterface():\n",
    "    autocode_source = 'http://www.consultant.ru/document/cons_doc_LAW_108669/88a12659e7cc781c56303430d98ae6c8a683892a/'\n",
    "    print(f'Ссылка на таблицу кодов регионов: {autocode_source}')\n",
    "    autocode = input('Введите код региона в соответствии с таблицей >>> ')\n",
    "    try:\n",
    "        print('Производится сбор данных...')\n",
    "        gdf_region = ProcessRegionData(autocode)\n",
    "    except:\n",
    "        raise RuntimeError('Код введён неверно')\n",
    "    if len(gdf_region) == 0:\n",
    "        print('Код введён неверно')\n",
    "    else:\n",
    "        pass\n",
    "    return gdf_region\n",
    "\n",
    "def TimeQueryResult():\n",
    "    time_sort = input('Хотите ли вы составить карту на определённый момент времени (Да/Нет)? >>> ').lower()\n",
    "    if time_sort == 'да':\n",
    "        print('Пример ввода времемни: 1970-01-01 00:00:00')\n",
    "        time_in = input('Введите время в соответствии с таблицей (см. пример) >>> ')\n",
    "        time_in_timestamp = pd.Timestamp(time_in)\n",
    "        gdf_region_selection_query = gdf_region.query(\"time == @time_in_timestamp\")\n",
    "        gdf_region_selection = gdf_region_selection_query[['name', 'temperature', 'geometry']]\n",
    "    elif time_sort == 'нет':\n",
    "        gdf_region_selection = gdf_region[['name', 'temperature', 'geometry']]\n",
    "    else:\n",
    "        gdf_region_selection = TimeQueryResult()\n",
    "    return gdf_region_selection\n",
    "def AddMap():\n",
    "    gdf_region_selection = TimeQueryResult()\n",
    "    ee.Initialize()\n",
    "    gee_region = geemap.geopandas_to_ee(gdf_region_selection)\n",
    "    Map = geemap.Map()\n",
    "    #points\n",
    "    Map.add_gdf(gdf_region_selection, layer_name='Температуры', zoom_to_layer=True, info_mode = 'on_hover')\n",
    "    Map.add_labels(gee_region, \"temperature\", font_size=\"10pt\", font_color=\"blue\", font_family=\"arial\", font_weight=\"bold\")\n",
    "    return Map"
   ]
  },
  {
   "cell_type": "markdown",
   "id": "1e0edf88",
   "metadata": {},
   "source": [
    "# Варианты запуска"
   ]
  },
  {
   "cell_type": "markdown",
   "id": "daf74f21",
   "metadata": {},
   "source": [
    "# Сбор данных"
   ]
  },
  {
   "cell_type": "code",
   "execution_count": 7,
   "id": "502851b2",
   "metadata": {
    "scrolled": false
   },
   "outputs": [
    {
     "name": "stdout",
     "output_type": "stream",
     "text": [
      "Ссылка на таблицу кодов регионов: http://www.consultant.ru/document/cons_doc_LAW_108669/88a12659e7cc781c56303430d98ae6c8a683892a/\n",
      "Введите код региона в соответствии с таблицей >>> 59\n",
      "Производится сбор данных...\n",
      "Время сбора данных: 11.62 с\n",
      "               name temperature                 time\n",
      "0         Березники     -11.0°C  2022-12-26 09:00:00\n",
      "1             Бисер     -13.0°C  2022-12-26 15:00:00\n",
      "2   Большая Соснова      -9.0°C  2022-12-25 06:00:00\n",
      "3    Большое Савино     -10.0°C  2022-12-26 16:00:00\n",
      "4               Вая      -3.0°C  2022-12-25 06:00:00\n",
      "5        Верещагино     -12.0°C  2022-12-26 09:00:00\n",
      "6             Гайны     -11.0°C  2022-12-26 12:00:00\n",
      "7            Губаха      -9.0°C  2022-12-26 09:00:00\n",
      "8          Добрянка      -9.0°C  2022-12-25 12:00:00\n",
      "9              Коса     -11.0°C  2022-12-26 15:00:00\n",
      "10           Кочево     -10.0°C  2022-12-26 15:00:00\n",
      "11         Кудымкар      -9.0°C  2022-12-26 12:00:00\n",
      "12           Кунгур     -13.0°C  2022-12-26 09:00:00\n",
      "13              Кын     -10.0°C  2022-12-25 12:00:00\n",
      "14           Лысьва     -12.0°C  2022-12-26 09:00:00\n",
      "15          Ножовка      -7.0°C  2022-12-26 12:00:00\n",
      "16            Ныроб      -4.0°C  2022-12-25 12:00:00\n",
      "17      Октябрьский     -14.0°C  2022-12-25 12:00:00\n",
      "18              Оса      -8.0°C  2022-12-26 09:00:00\n",
      "19           Оханск     -10.0°C  2022-12-26 12:00:00\n",
      "20            Пермь      -7.0°C  2022-12-26 12:00:00\n",
      "21            Пермь      -4.0°C  2022-12-25 06:00:00\n",
      "22            Пермь        None                 None\n",
      "23      Усть-Черная      -7.0°C  2022-12-25 12:00:00\n",
      "24       Чайковский      -8.0°C  2022-12-26 09:00:00\n",
      "25          Чердынь     -14.0°C  2022-12-26 12:00:00\n",
      "26           Чермоз     -11.0°C  2022-12-26 09:00:00\n",
      "27         Чернушка     -12.0°C  2022-12-26 15:00:00\n"
     ]
    }
   ],
   "source": [
    "gdf_region = ProcessRegionDataInterface()\n",
    "print(gdf_region[['name', 'temperature', 'time']])"
   ]
  },
  {
   "cell_type": "markdown",
   "id": "fa893037",
   "metadata": {},
   "source": [
    "# Создание интерактивного слоя"
   ]
  },
  {
   "cell_type": "code",
   "execution_count": 8,
   "id": "65dbcc06",
   "metadata": {},
   "outputs": [
    {
     "name": "stdout",
     "output_type": "stream",
     "text": [
      "Хотите ли вы составить карту на определённый момент времени (Да/Нет)? >>> да\n",
      "Пример ввода времемни: 1970-01-01 00:00:00\n",
      "Введите время в соответствии с таблицей (см. пример) >>> 2022-12-26 12:00:00\n"
     ]
    },
    {
     "data": {
      "application/vnd.jupyter.widget-view+json": {
       "model_id": "d8aec1d3ac294ff8ac7adb2b557ceb12",
       "version_major": 2,
       "version_minor": 0
      },
      "text/plain": [
       "Map(center=[20, 0], controls=(WidgetControl(options=['position', 'transparent_bg'], widget=HBox(children=(Togg…"
      ]
     },
     "metadata": {},
     "output_type": "display_data"
    }
   ],
   "source": [
    "AddMap()"
   ]
  },
  {
   "cell_type": "code",
   "execution_count": null,
   "id": "0c32060d",
   "metadata": {},
   "outputs": [],
   "source": []
  }
 ],
 "metadata": {
  "kernelspec": {
   "display_name": "Python 3 (ipykernel)",
   "language": "python",
   "name": "python3"
  },
  "language_info": {
   "codemirror_mode": {
    "name": "ipython",
    "version": 3
   },
   "file_extension": ".py",
   "mimetype": "text/x-python",
   "name": "python",
   "nbconvert_exporter": "python",
   "pygments_lexer": "ipython3",
   "version": "3.8.13"
  }
 },
 "nbformat": 4,
 "nbformat_minor": 5
}
